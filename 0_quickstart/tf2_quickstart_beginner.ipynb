{
 "cells": [
  {
   "cell_type": "code",
   "execution_count": 1,
   "id": "ff130e65-34ce-4077-ad97-0933f7f066b6",
   "metadata": {},
   "outputs": [],
   "source": [
    "# import dependencies\n",
    "import tensorflow as tf"
   ]
  },
  {
   "cell_type": "code",
   "execution_count": 2,
   "id": "7a7383e8-4053-466a-832c-3e159b144de3",
   "metadata": {},
   "outputs": [
    {
     "name": "stdout",
     "output_type": "stream",
     "text": [
      "TensorFlow version: 2.3.0\n"
     ]
    }
   ],
   "source": [
    "# check tf version\n",
    "print(\"TensorFlow version:\", tf.__version__)"
   ]
  },
  {
   "cell_type": "code",
   "execution_count": null,
   "id": "6662d1b6-824d-46a4-a728-ce85978fb2b8",
   "metadata": {},
   "outputs": [],
   "source": [
    "# load mnist dataset & normalize to 0 - 1.0\n",
    "mnist = tf.keras.datasets.mnist\n",
    "\n",
    "(x_train, y_train), (x_test, y_test) = mnist.load_data()\n",
    "x_train, x_test = x_train / 255.0, x_test / 255.0"
   ]
  },
  {
   "cell_type": "code",
   "execution_count": 15,
   "id": "c7a23ff7-8044-43a8-a8c8-dfdf82c99c49",
   "metadata": {},
   "outputs": [],
   "source": [
    "# build ML model\n",
    "model = tf.keras.models.Sequential([\n",
    "  tf.keras.layers.Flatten(input_shape=(28, 28)),\n",
    "  tf.keras.layers.Dense(128, activation='relu'),\n",
    "  tf.keras.layers.Dropout(0.2),\n",
    "  tf.keras.layers.Dense(10)\n",
    "])"
   ]
  },
  {
   "cell_type": "code",
   "execution_count": 19,
   "id": "3788359c-665c-4819-97be-4d4eea0ad1b9",
   "metadata": {},
   "outputs": [
    {
     "data": {
      "text/plain": [
       "array([[ 0.17463037,  0.8219978 , -0.3311332 ,  0.77387655,  0.87129116,\n",
       "         0.30805418, -0.3584746 , -0.29912114, -0.37615827,  0.11226162]],\n",
       "      dtype=float32)"
      ]
     },
     "execution_count": 19,
     "metadata": {},
     "output_type": "execute_result"
    }
   ],
   "source": [
    "# predict using (untrained) model built (returns logits as model built w/o softmax OR sigmoid later wrt. last layer)\n",
    "predictions = model(x_train[:1]).numpy()\n",
    "predictions"
   ]
  },
  {
   "cell_type": "code",
   "execution_count": 27,
   "id": "071b5add-100b-455e-a38a-056beddaa4f9",
   "metadata": {},
   "outputs": [
    {
     "data": {
      "text/plain": [
       "array([[0.08920971, 0.17043556, 0.05379746, 0.1624282 , 0.17904742,\n",
       "        0.10194299, 0.05234649, 0.05554749, 0.05142895, 0.08381577]],\n",
       "      dtype=float32)"
      ]
     },
     "execution_count": 27,
     "metadata": {},
     "output_type": "execute_result"
    }
   ],
   "source": [
    "# convert logits to probabilities (softmax returns probabilities SUM to 1 among all classes)\n",
    "tf.nn.softmax(predictions).numpy()"
   ]
  },
  {
   "cell_type": "code",
   "execution_count": 28,
   "id": "bacf1b9b-321c-4f83-9518-b9f8ad8563c6",
   "metadata": {},
   "outputs": [
    {
     "data": {
      "text/plain": [
       "2.2833416"
      ]
     },
     "execution_count": 28,
     "metadata": {},
     "output_type": "execute_result"
    }
   ],
   "source": [
    "# define loss function & get loss for prediction\n",
    "# https://www.tensorflow.org/api_docs/python/tf/keras/losses/SparseCategoricalCrossentropy\n",
    "loss_fn = tf.keras.losses.SparseCategoricalCrossentropy(from_logits=True)\n",
    "loss_fn(y_train[:1], predictions).numpy()"
   ]
  },
  {
   "cell_type": "code",
   "execution_count": 29,
   "id": "192c9ce0-3b46-4701-bf43-4c072d025c2f",
   "metadata": {},
   "outputs": [],
   "source": [
    "# compile model \n",
    "model.compile(optimizer='adam',\n",
    "              loss=loss_fn,\n",
    "              metrics=['accuracy'])"
   ]
  },
  {
   "cell_type": "code",
   "execution_count": 30,
   "id": "f5d9f4f0-cbc1-4560-b788-ed087f595c0e",
   "metadata": {},
   "outputs": [
    {
     "name": "stdout",
     "output_type": "stream",
     "text": [
      "Epoch 1/5\n",
      "1875/1875 [==============================] - 2s 915us/step - loss: 0.2973 - accuracy: 0.9135\n",
      "Epoch 2/5\n",
      "1875/1875 [==============================] - 2s 881us/step - loss: 0.1437 - accuracy: 0.9580\n",
      "Epoch 3/5\n",
      "1875/1875 [==============================] - 2s 901us/step - loss: 0.1063 - accuracy: 0.9685\n",
      "Epoch 4/5\n",
      "1875/1875 [==============================] - 2s 882us/step - loss: 0.0862 - accuracy: 0.9734\n",
      "Epoch 5/5\n",
      "1875/1875 [==============================] - 2s 887us/step - loss: 0.0749 - accuracy: 0.9769\n"
     ]
    },
    {
     "data": {
      "text/plain": [
       "<tensorflow.python.keras.callbacks.History at 0x223d8374d00>"
      ]
     },
     "execution_count": 30,
     "metadata": {},
     "output_type": "execute_result"
    }
   ],
   "source": [
    "# train \n",
    "model.fit(x_train, y_train, epochs=5)"
   ]
  },
  {
   "cell_type": "code",
   "execution_count": 31,
   "id": "09ce1196-1f4a-4644-ae3e-e4fee2ab803b",
   "metadata": {},
   "outputs": [
    {
     "name": "stdout",
     "output_type": "stream",
     "text": [
      "313/313 - 0s - loss: 0.0760 - accuracy: 0.9767\n"
     ]
    },
    {
     "data": {
      "text/plain": [
       "[0.07602409273386002, 0.9767000079154968]"
      ]
     },
     "execution_count": 31,
     "metadata": {},
     "output_type": "execute_result"
    }
   ],
   "source": [
    "# evaluate trained model using hold-out (val OR test) data set \n",
    "# return [loss, accuracy]\n",
    "model.evaluate(x_test,  y_test, verbose=2)"
   ]
  },
  {
   "cell_type": "code",
   "execution_count": 32,
   "id": "9e07c15a-c51d-4acf-8182-634207afd9be",
   "metadata": {},
   "outputs": [],
   "source": [
    "# adding softmax layer on top of trained model to directly get probabilities \n",
    "# (softmax returns probabilities SUM to 1 among all classes); (sigmoid returns probabilities 0-1 for each individual class)\n",
    "probability_model = tf.keras.Sequential([\n",
    "  model,\n",
    "  tf.keras.layers.Softmax()\n",
    "])"
   ]
  },
  {
   "cell_type": "code",
   "execution_count": 34,
   "id": "ff45ef19-5970-4b88-9fba-b6fc04faacd6",
   "metadata": {},
   "outputs": [],
   "source": [
    "# predict using the existing model wrapped with a new softmax layer\n",
    "res = probability_model(x_test[:5])"
   ]
  },
  {
   "cell_type": "code",
   "execution_count": 52,
   "id": "94178ea3-dc64-413e-a1a7-5c706618c8cf",
   "metadata": {},
   "outputs": [
    {
     "name": "stdout",
     "output_type": "stream",
     "text": [
      "7 2 1 0 4 "
     ]
    }
   ],
   "source": [
    "# import additional dependency\n",
    "import numpy as np\n",
    "\n",
    "# generate labels\n",
    "labels = [i for i in range(10)]\n",
    "\n",
    "# getting the predicted value relative to labels generated\n",
    "for i in res:\n",
    "    print(labels[np.argmax(i)], end=\" \")"
   ]
  }
 ],
 "metadata": {
  "kernelspec": {
   "display_name": "Python 3 (ipykernel)",
   "language": "python",
   "name": "python3"
  },
  "language_info": {
   "codemirror_mode": {
    "name": "ipython",
    "version": 3
   },
   "file_extension": ".py",
   "mimetype": "text/x-python",
   "name": "python",
   "nbconvert_exporter": "python",
   "pygments_lexer": "ipython3",
   "version": "3.8.12"
  }
 },
 "nbformat": 4,
 "nbformat_minor": 5
}
