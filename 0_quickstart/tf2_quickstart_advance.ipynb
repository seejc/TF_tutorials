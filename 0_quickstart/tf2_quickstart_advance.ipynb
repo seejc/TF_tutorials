{
 "cells": [
  {
   "cell_type": "code",
   "execution_count": 1,
   "id": "0a89e8f1-37b7-49eb-a7b2-a9578e019ed6",
   "metadata": {},
   "outputs": [
    {
     "name": "stdout",
     "output_type": "stream",
     "text": [
      "TensorFlow version: 2.3.0\n"
     ]
    }
   ],
   "source": [
    "# import dependencies & check tf version\n",
    "import tensorflow as tf\n",
    "from tensorflow.keras.layers import Dense, Flatten, Conv2D\n",
    "from tensorflow.keras import Model\n",
    "\n",
    "print(\"TensorFlow version:\", tf.__version__)"
   ]
  },
  {
   "cell_type": "code",
   "execution_count": 2,
   "id": "672c29b1-bcfc-48c1-b21a-81b342e1f0f1",
   "metadata": {},
   "outputs": [],
   "source": [
    "# load mnist dataset & normalize data \n",
    "mnist = tf.keras.datasets.mnist\n",
    "\n",
    "(x_train, y_train), (x_test, y_test) = mnist.load_data()\n",
    "x_train, x_test = x_train / 255.0, x_test / 255.0"
   ]
  },
  {
   "cell_type": "code",
   "execution_count": 3,
   "id": "380e5f9c-0bcc-493f-9342-dcdc0e429afc",
   "metadata": {},
   "outputs": [],
   "source": [
    "# add a channels dimension behind ((60000, 28, 28) -> (60000, 28, 28, 1))\n",
    "x_train = x_train[..., tf.newaxis].astype(\"float32\")\n",
    "x_test = x_test[..., tf.newaxis].astype(\"float32\")"
   ]
  },
  {
   "cell_type": "code",
   "execution_count": 4,
   "id": "6f8b59bf-3848-4e57-9cfc-68368ea6221a",
   "metadata": {},
   "outputs": [],
   "source": [
    "# prepare dataset (batch + shuffle*)\n",
    "train_ds = tf.data.Dataset.from_tensor_slices(\n",
    "    (x_train, y_train)).shuffle(10000).batch(32)\n",
    "\n",
    "test_ds = tf.data.Dataset.from_tensor_slices((x_test, y_test)).batch(32)"
   ]
  },
  {
   "cell_type": "code",
   "execution_count": 5,
   "id": "71d3f9c6-d115-44cb-84c2-8c557e7bb943",
   "metadata": {},
   "outputs": [],
   "source": [
    "# build ML model using Keras Model subclassing API\n",
    "class MyModel(Model):\n",
    "    def __init__(self):\n",
    "        super(MyModel, self).__init__()\n",
    "        self.conv1 = Conv2D(32, 3, activation='relu')\n",
    "        self.flatten = Flatten()\n",
    "        self.d1 = Dense(128, activation='relu')\n",
    "        self.d2 = Dense(10)\n",
    "\n",
    "    def call(self, x):\n",
    "        x = self.conv1(x)\n",
    "        x = self.flatten(x)\n",
    "        x = self.d1(x)\n",
    "        return self.d2(x)\n",
    "\n",
    "# Create an instance of the model\n",
    "model = MyModel()"
   ]
  },
  {
   "cell_type": "code",
   "execution_count": 6,
   "id": "76644141-ae96-497e-baf3-866c4d794403",
   "metadata": {},
   "outputs": [],
   "source": [
    "# define objective function (aka. loss / cost / error function) & optimizer for training\n",
    "loss_object = tf.keras.losses.SparseCategoricalCrossentropy(from_logits=True)\n",
    "\n",
    "optimizer = tf.keras.optimizers.Adam()"
   ]
  },
  {
   "cell_type": "code",
   "execution_count": 7,
   "id": "b1eec2aa-5786-4fce-b562-e0badf78cbc6",
   "metadata": {},
   "outputs": [],
   "source": [
    "# select metrics to measure Loss & Accuracy (accumulate over epochs *can be reset every epoch)\n",
    "train_loss = tf.keras.metrics.Mean(name='train_loss')\n",
    "train_accuracy = tf.keras.metrics.SparseCategoricalAccuracy(name='train_accuracy')\n",
    "\n",
    "test_loss = tf.keras.metrics.Mean(name='test_loss')\n",
    "test_accuracy = tf.keras.metrics.SparseCategoricalAccuracy(name='test_accuracy')"
   ]
  },
  {
   "cell_type": "code",
   "execution_count": 8,
   "id": "fa66a50d-80a5-4d89-9216-c46d63e8f375",
   "metadata": {},
   "outputs": [],
   "source": [
    "# def function to train model\n",
    "@tf.function\n",
    "def train_step(images, labels):\n",
    "    with tf.GradientTape() as tape:\n",
    "        # training=True is only needed if there are layers with different\n",
    "        # behavior during training versus inference (e.g. Dropout).\n",
    "        predictions = model(images, training=True)\n",
    "        loss = loss_object(labels, predictions)\n",
    "    \n",
    "    gradients = tape.gradient(loss, model.trainable_variables)\n",
    "    optimizer.apply_gradients(zip(gradients, model.trainable_variables))\n",
    "\n",
    "    train_loss(loss)\n",
    "    train_accuracy(labels, predictions)"
   ]
  },
  {
   "cell_type": "code",
   "execution_count": 9,
   "id": "5639e71e-61da-4fd9-9ea8-74ce8313c1dd",
   "metadata": {},
   "outputs": [],
   "source": [
    "# def function to test / val model\n",
    "@tf.function\n",
    "def test_step(images, labels):\n",
    "    # training=False is only needed if there are layers with different\n",
    "    # behavior during training versus inference (e.g. Dropout).\n",
    "    predictions = model(images, training=False)\n",
    "    t_loss = loss_object(labels, predictions)\n",
    "\n",
    "    test_loss(t_loss)\n",
    "    test_accuracy(labels, predictions)"
   ]
  },
  {
   "cell_type": "code",
   "execution_count": 11,
   "id": "ae2113bf-7a33-4db1-a309-3b03b2263650",
   "metadata": {},
   "outputs": [
    {
     "name": "stdout",
     "output_type": "stream",
     "text": [
      "Epoch 1, Loss: 0.13470807671546936, Accuracy: 95.91000366210938, Test Loss: 0.06623464822769165, Test Accuracy: 97.7199935913086\n",
      "Epoch 2, Loss: 0.043361034244298935, Accuracy: 98.67500305175781, Test Loss: 0.05451316386461258, Test Accuracy: 98.1500015258789\n",
      "Epoch 3, Loss: 0.0239400714635849, Accuracy: 99.20500183105469, Test Loss: 0.0552385151386261, Test Accuracy: 98.48999786376953\n",
      "Epoch 4, Loss: 0.014314922504127026, Accuracy: 99.53666687011719, Test Loss: 0.0518961176276207, Test Accuracy: 98.36000061035156\n",
      "Epoch 5, Loss: 0.009225042536854744, Accuracy: 99.66666412353516, Test Loss: 0.06733538210391998, Test Accuracy: 98.30999755859375\n"
     ]
    }
   ],
   "source": [
    "# train & validate model\n",
    "EPOCHS = 5\n",
    "\n",
    "for epoch in range(EPOCHS):\n",
    "    # Reset the metrics at the start of the next epoch\n",
    "    train_loss.reset_states()\n",
    "    train_accuracy.reset_states()\n",
    "    test_loss.reset_states()\n",
    "    test_accuracy.reset_states()\n",
    "\n",
    "    for images, labels in train_ds:\n",
    "        train_step(images, labels)\n",
    "\n",
    "    for test_images, test_labels in test_ds:\n",
    "        test_step(test_images, test_labels)\n",
    "\n",
    "    print(\n",
    "    f'Epoch {epoch + 1}, '\n",
    "    f'Loss: {train_loss.result()}, '\n",
    "    f'Accuracy: {train_accuracy.result() * 100}, '\n",
    "    f'Test Loss: {test_loss.result()}, '\n",
    "    f'Test Accuracy: {test_accuracy.result() * 100}'\n",
    "    )"
   ]
  }
 ],
 "metadata": {
  "kernelspec": {
   "display_name": "Python 3 (ipykernel)",
   "language": "python",
   "name": "python3"
  },
  "language_info": {
   "codemirror_mode": {
    "name": "ipython",
    "version": 3
   },
   "file_extension": ".py",
   "mimetype": "text/x-python",
   "name": "python",
   "nbconvert_exporter": "python",
   "pygments_lexer": "ipython3",
   "version": "3.8.12"
  }
 },
 "nbformat": 4,
 "nbformat_minor": 5
}
